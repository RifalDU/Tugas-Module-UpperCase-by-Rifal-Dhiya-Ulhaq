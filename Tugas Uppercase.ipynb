{
 "cells": [
  {
   "cell_type": "markdown",
   "id": "6203bc1b-a932-4423-a1dd-b66221fc0055",
   "metadata": {},
   "source": [
    "# TUGAS DASAR PEMOGRAMMAN UPPER CASE BY RIFAL DHIYA ULHAQ "
   ]
  },
  {
   "cell_type": "code",
   "execution_count": 27,
   "id": "9aa80e54-567e-42f3-a587-cf41f7d4f29c",
   "metadata": {},
   "outputs": [
    {
     "name": "stdout",
     "output_type": "stream",
     "text": [
      "total huruf besar adalah 7\n"
     ]
    }
   ],
   "source": [
    "import v\n",
    "\n",
    "hasil_jumlah_huruf_besar = untitled.hitung_huruf_besar(\"Aku adalah Seorang Gamer dan Designer, dan Aku sangat Menyukai Keduanya\")\n",
    "print(f\"total huruf besar adalah {hasil_jumlah_huruf_besar}\")"
   ]
  },
  {
   "cell_type": "code",
   "execution_count": null,
   "id": "b9fa62c0-c378-49cd-9e20-f377be708891",
   "metadata": {},
   "outputs": [],
   "source": []
  }
 ],
 "metadata": {
  "kernelspec": {
   "display_name": "Python 3 (ipykernel)",
   "language": "python",
   "name": "python3"
  },
  "language_info": {
   "codemirror_mode": {
    "name": "ipython",
    "version": 3
   },
   "file_extension": ".py",
   "mimetype": "text/x-python",
   "name": "python",
   "nbconvert_exporter": "python",
   "pygments_lexer": "ipython3",
   "version": "3.11.7"
  }
 },
 "nbformat": 4,
 "nbformat_minor": 5
}
